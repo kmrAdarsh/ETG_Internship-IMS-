{
  "nbformat": 4,
  "nbformat_minor": 0,
  "metadata": {
    "colab": {
      "name": "Untitled1.ipynb",
      "provenance": []
    },
    "kernelspec": {
      "name": "python3",
      "display_name": "Python 3"
    },
    "language_info": {
      "name": "python"
    }
  },
  "cells": [
    {
      "cell_type": "code",
      "metadata": {
        "id": "PvJcNZQ3q-0d"
      },
      "source": [
        "import json\n",
        "fd = open(\"record.json\", 'r')\n",
        "r =fd.read()\n",
        "fd.close()\n",
        "\n",
        "record = json.loads(r)"
      ],
      "execution_count": 8,
      "outputs": []
    },
    {
      "cell_type": "code",
      "metadata": {
        "colab": {
          "base_uri": "https://localhost:8080/"
        },
        "id": "oBn125wMuHP0",
        "outputId": "9ba6838c-a981-43f3-db33-952a33f80d82"
      },
      "source": [
        "prod_id = input(\"Enter product id: \")\n",
        "name = input(\"Enter product name: \")\n",
        "pr = int(input(\"Enter the price: \"))\n",
        "if prod_id in record.keys():\n",
        "  new_qn = int(input(\"Enter the quantity: \")) + record[prod_id][\"qn\"]\n",
        "else:\n",
        "  new_qn = int(input(\"Enter the quantity: \"))\n",
        "\n",
        "record[prod_id]={\"name\": name, \"pr\": pr, \"qn\": new_qn}"
      ],
      "execution_count": 10,
      "outputs": [
        {
          "name": "stdout",
          "output_type": "stream",
          "text": [
            "Enter product id: 131\n",
            "Enter product name: Mug\n",
            "Enter the price: 25\n",
            "Enter the quantity: 50\n"
          ]
        }
      ]
    },
    {
      "cell_type": "code",
      "metadata": {
        "id": "HFgTn5cOuvW5"
      },
      "source": [
        "js = json.dumps(record)\n",
        "\n",
        "fd = open(\"record.json\", 'w')\n",
        "fd.write(js)\n",
        "fd.close()"
      ],
      "execution_count": 11,
      "outputs": []
    }
  ]
}