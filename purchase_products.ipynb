{
  "nbformat": 4,
  "nbformat_minor": 0,
  "metadata": {
    "colab": {
      "name": "Untitled3.ipynb",
      "provenance": []
    },
    "kernelspec": {
      "name": "python3",
      "display_name": "Python 3"
    },
    "language_info": {
      "name": "python"
    }
  },
  "cells": [
    {
      "cell_type": "code",
      "metadata": {
        "id": "3QGIjoIdSyp6"
      },
      "source": [
        "sales = {}"
      ],
      "execution_count": 27,
      "outputs": []
    },
    {
      "cell_type": "code",
      "metadata": {
        "colab": {
          "base_uri": "https://localhost:8080/"
        },
        "id": "S5Iss7DXPjU1",
        "outputId": "91ee1a20-bdf3-4409-ad31-f76b22c67350"
      },
      "source": [
        "import json\n",
        "\n",
        "fd = open(\"record.json\", 'r')\n",
        "r = fd.read()\n",
        "fd.close()\n",
        "records = json.loads(r)\n",
        "print(records)"
      ],
      "execution_count": 65,
      "outputs": [
        {
          "output_type": "stream",
          "name": "stdout",
          "text": [
            "{'101': {'name': 'Chips', 'pr': 10, 'qn': 95}, '102': {'name': 'Cake', 'pr': 15, 'qn': 65}, '103': {'name': 'Cookies', 'pr': 25, 'qn': 45}, '104': {'name': 'Pastry', 'pr': 15, 'qn': 25}, '105': {'name': 'Bread', 'pr': 12, 'qn': 40}, '106': {'name': 'Butter', 'pr': 25, 'qn': 50}, '107': {'name': 'Maggie', 'pr': 5, 'qn': 100}, '108': {'name': 'Maggie', 'pr': 12, 'qn': 80}, '109': {'name': '5 Star', 'pr': 10, 'qn': 70}, '110': {'name': 'Kit-kat', 'pr': 20, 'qn': 60}, '111': {'name': 'Bisleri', 'pr': 15, 'qn': 40}, '112': {'name': 'Limca', 'pr': 50, 'qn': 40}, '113': {'name': 'Sprite', 'pr': 70, 'qn': 60}, '114': {'name': 'Peanuts', 'pr': 20, 'qn': 37}, '115': {'name': 'Dairy Milk', 'pr': 10, 'qn': 80}, '116': {'name': 'Wiper', 'pr': 120, 'qn': 85}, '117': {'name': 'Broomstick', 'pr': 70, 'qn': 50}, '118': {'name': 'Apple juice', 'pr': 97, 'qn': 90}, '119': {'name': 'Mixed Fruit Juice', 'pr': 117, 'qn': 60}, '120': {'name': 'Dove(soap)', 'pr': 45, 'qn': 50}, '121': {'name': 'Handwash', 'pr': 110, 'qn': 60}, '122': {'name': 'Coke', 'pr': 20, 'qn': 80}, '123': {'name': 'Pepsi', 'pr': 40, 'qn': 30}, '124': {'name': 'Noodles', 'pr': 15, 'qn': 20}, '125': {'name': 'Vanilla ice-cream', 'pr': 30, 'qn': 25}, '126': {'name': 'Chocolate ice-cream', 'pr': 30, 'qn': 40}, '127': {'name': 'Butter scotch', 'pr': 30, 'qn': 35}, '128': {'name': 'Choco-chip', 'pr': 30, 'qn': 50}, '129': {'name': 'Buttermilk', 'pr': 12, 'qn': 50}, '130': {'name': 'Lassi', 'pr': 20, 'qn': 80}, '131': {'name': 'Mug', 'pr': 25, 'qn': 50}}\n"
          ]
        }
      ]
    },
    {
      "cell_type": "code",
      "metadata": {
        "colab": {
          "base_uri": "https://localhost:8080/"
        },
        "id": "cVxXcqynQBeo",
        "outputId": "55b06675-6ba8-4b6a-bb33-03402de78d01"
      },
      "source": [
        "ui_prod = input(\"Enter the product id: \")\n",
        "ui_quant = int(input(\"Enter the quantity: \"))\n",
        "\n",
        "print(\"Product: \", records[ui_prod][\"name\"])\n",
        "print(\"Price: \", records[ui_prod][\"pr\"])\n",
        "print(\"Total Amount: \", records[ui_prod][\"pr\"]*ui_quant)"
      ],
      "execution_count": 66,
      "outputs": [
        {
          "output_type": "stream",
          "name": "stdout",
          "text": [
            "Enter the product id: 102\n",
            "Enter the quantity: 5\n",
            "Product:  Cake\n",
            "Price:  15\n",
            "Total Amount:  75\n"
          ]
        }
      ]
    },
    {
      "cell_type": "code",
      "metadata": {
        "id": "92SvpAGdQGgI"
      },
      "source": [
        "records[ui_prod][\"qn\"] = records[ui_prod][\"qn\"] - ui_quant\n",
        "\n",
        "js = json.dumps(records)\n",
        "\n",
        "fd = open(\"record.json\", 'w')\n",
        "fd.write(js)\n",
        "fd.close()"
      ],
      "execution_count": 67,
      "outputs": []
    },
    {
      "cell_type": "code",
      "metadata": {
        "id": "w93JmaSsQKSV"
      },
      "source": [
        "\n",
        "sales = {(len(sales)+1): {\"prod\": ui_prod, \"qn\": ui_quant, \"amount\": records[ui_prod][\"pr\"]*ui_quant}}\n",
        "\n",
        "sale = json.dumps(sales)\n",
        "\n",
        "fd = open(\"sales.json\", 'a')\n",
        "r = fd.write(sale)\n",
        "fd.close()"
      ],
      "execution_count": 68,
      "outputs": []
    }
  ]
}